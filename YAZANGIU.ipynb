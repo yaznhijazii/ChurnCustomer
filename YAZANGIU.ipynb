{
 "cells": [
  {
   "cell_type": "code",
   "execution_count": 1,
   "id": "49a229d6",
   "metadata": {},
   "outputs": [],
   "source": [
    "import joblib"
   ]
  },
  {
   "cell_type": "code",
   "execution_count": 2,
   "id": "5230a8a8",
   "metadata": {},
   "outputs": [
    {
     "name": "stderr",
     "output_type": "stream",
     "text": [
      "C:\\Users\\Yazan\\anaconda3\\lib\\site-packages\\sklearn\\base.py:329: UserWarning: Trying to unpickle estimator DecisionTreeClassifier from version 1.1.1 when using version 1.0.2. This might lead to breaking code or invalid results. Use at your own risk. For more info please refer to:\n",
      "https://scikit-learn.org/stable/modules/model_persistence.html#security-maintainability-limitations\n",
      "  warnings.warn(\n",
      "C:\\Users\\Yazan\\anaconda3\\lib\\site-packages\\sklearn\\base.py:329: UserWarning: Trying to unpickle estimator RandomForestClassifier from version 1.1.1 when using version 1.0.2. This might lead to breaking code or invalid results. Use at your own risk. For more info please refer to:\n",
      "https://scikit-learn.org/stable/modules/model_persistence.html#security-maintainability-limitations\n",
      "  warnings.warn(\n"
     ]
    }
   ],
   "source": [
    "jomodel = joblib.load(\"yazanforest.joblib\")"
   ]
  },
  {
   "cell_type": "code",
   "execution_count": 3,
   "id": "9c7d2418",
   "metadata": {},
   "outputs": [],
   "source": [
    "from tkinter import *"
   ]
  },
  {
   "cell_type": "code",
   "execution_count": null,
   "id": "fb611764",
   "metadata": {},
   "outputs": [],
   "source": [
    "class ChurnPredictorApp:\n",
    "    def __init__(self, master):\n",
    "        self.master = master\n",
    "        master.title(\"Customer Churn Predictor\")\n",
    "        master.geometry(\"600x500\")\n",
    "        master.resizable(False, False)\n",
    "        master.configure(bg=\"#1E2640\")  # Set the background color here\n",
    "\n",
    "        self.create_widgets()\n",
    "\n",
    "    def create_widgets(self):\n",
    "        # Frame for input textbox and scrollbar\n",
    "        frame = Frame(self.master, bg=\"#00C6AF\")\n",
    "        frame.grid(row=0, column=0, sticky=\"nsew\", padx=10, pady=10)\n",
    "\n",
    "        # Title label\n",
    "        title_label = Label(frame, text=\"Churn Customer Predictor\", font=\"Helvetica 16 bold\", bg=\"#00C6AF\")\n",
    "        title_label.grid(row=0, column=0, columnspan=2, pady=(0, 10))\n",
    "\n",
    "        # Textbox for user input\n",
    "        self.textbox = Text(frame, font=\"normal 10 bold\", relief=RIDGE, highlightcolor='#DC9750',\n",
    "                            bg=\"#F3EAC0\", highlightthickness=2, highlightbackground=\"#DC9750\", insertbackground=\"#DC9750\", height=3)\n",
    "        self.textbox.grid(row=1, column=0, sticky=\"nsew\", padx=5, pady=5)\n",
    "\n",
    "        # Scrollbar for the textbox\n",
    "        scrollbar = Scrollbar(frame, command=self.textbox.yview)\n",
    "        scrollbar.grid(row=1, column=1, sticky=\"ns\")\n",
    "        self.textbox.configure(yscrollcommand=scrollbar.set)\n",
    "\n",
    "        # Note label for user input\n",
    "        note_label = Label(self.master, text=\"Please use guide to write the correct input statement !\", font=\"normal 10 italic\", bg=\"#1E2640\", fg=\"white\")\n",
    "        note_label.grid(row=1, column=0, pady=(0, 10))\n",
    "\n",
    "        # Predict button\n",
    "        predict_btn = Button(self.master, text=\"PREDICT\", font=\"normal 15 bold\", relief=SOLID, cursor='hand2', command=self.get_user_input)\n",
    "        predict_btn.grid(row=2, column=0, pady=10)\n",
    "\n",
    "        # Output label\n",
    "        self.outlabel = Label(self.master, text=\"\", font=\"normal 15 bold\", bg=\"#1E2640\", fg=\"white\")\n",
    "        self.outlabel.grid(row=3, column=0, pady=10)\n",
    "\n",
    "    def get_user_input(self):\n",
    "        try:\n",
    "            data = self.textbox.get(\"1.0\", \"end-1c\")\n",
    "            input_values = list(float(i) for i in data.split(\", \"))\n",
    "            array_data = np.array(input_values).reshape(1, -1)\n",
    "            predictions = jomodel.predict(array_data)\n",
    "\n",
    "            if predictions[0] == 0:\n",
    "                self.outlabel.configure(text=\"Not Churn\")\n",
    "            else:\n",
    "                self.outlabel.configure(text=\"Churn\")\n",
    "\n",
    "        except Exception as e:\n",
    "            self.outlabel.configure(text=f\"Error: {str(e)}\")\n",
    "\n",
    "if __name__ == \"__main__\":\n",
    "    root = Tk()\n",
    "    app = ChurnPredictorApp(root)\n",
    "    root.mainloop()\n"
   ]
  },
  {
   "cell_type": "code",
   "execution_count": 9,
   "id": "29f7c1d2",
   "metadata": {},
   "outputs": [],
   "source": []
  },
  {
   "cell_type": "code",
   "execution_count": null,
   "id": "7adbb6b0",
   "metadata": {},
   "outputs": [],
   "source": []
  },
  {
   "cell_type": "code",
   "execution_count": null,
   "id": "736c1925",
   "metadata": {},
   "outputs": [],
   "source": []
  },
  {
   "cell_type": "code",
   "execution_count": null,
   "id": "4edd6bd3",
   "metadata": {},
   "outputs": [],
   "source": []
  }
 ],
 "metadata": {
  "kernelspec": {
   "display_name": "Python 3 (ipykernel)",
   "language": "python",
   "name": "python3"
  },
  "language_info": {
   "codemirror_mode": {
    "name": "ipython",
    "version": 3
   },
   "file_extension": ".py",
   "mimetype": "text/x-python",
   "name": "python",
   "nbconvert_exporter": "python",
   "pygments_lexer": "ipython3",
   "version": "3.9.13"
  }
 },
 "nbformat": 4,
 "nbformat_minor": 5
}
